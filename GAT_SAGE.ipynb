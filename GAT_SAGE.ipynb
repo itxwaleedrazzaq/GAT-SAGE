{
  "cells": [
    {
      "attachments": {},
      "cell_type": "markdown",
      "metadata": {},
      "source": [
        "Installing Dependencies"
      ]
    },
    {
      "cell_type": "code",
      "execution_count": null,
      "metadata": {
        "colab": {
          "base_uri": "https://localhost:8080/"
        },
        "id": "RGpLdhGTy1k-",
        "outputId": "1670e986-5c11-46b9-c996-49c220efaeec"
      },
      "outputs": [],
      "source": [
        "!pip install torch\n",
        "import torch \n",
        "pytorch_version = f\"torch-{torch.__version__}.html\"\n",
        "!pip install --no-index torch-scatter -f https://pytorch-geometric.com/whl/$pytorch_version\n",
        "!pip install --no-index torch-sparse -f https://pytorch-geometric.com/whl/$pytorch_version\n",
        "!pip install --no-index torch-cluster -f https://pytorch-geometric.com/whl/$pytorch_version\n",
        "!pip install --no-index torch-spline-conv -f https://pytorch-geometric.com/whl/$pytorch_version\n",
        "!pip install torch-geometric\n",
        "!pip install torchvision\n",
        "!pip install seaborn\n",
        "!pip install torchmetrics\n",
        "!nvidia-smi"
      ]
    },
    {
      "attachments": {},
      "cell_type": "markdown",
      "metadata": {},
      "source": [
        "Looking for GPU"
      ]
    },
    {
      "cell_type": "code",
      "execution_count": null,
      "metadata": {
        "id": "ADIjbUL-zALZ"
      },
      "outputs": [],
      "source": [
        "#searching for GPU\n",
        "import torch\n",
        "device = ('cuda:0' if torch.cuda.is_available() else 'cpu')"
      ]
    },
    {
      "attachments": {},
      "cell_type": "markdown",
      "metadata": {},
      "source": [
        "Processing training data"
      ]
    },
    {
      "cell_type": "code",
      "execution_count": null,
      "metadata": {
        "colab": {
          "base_uri": "https://localhost:8080/"
        },
        "id": "f4g_vlxtzNgL",
        "outputId": "7c3767d8-06ba-4e04-cdcf-043223b8c68e"
      },
      "outputs": [],
      "source": [
        "from torch_geometric.datasets import TUDataset\n",
        "from torch_geometric.data import DataLoader\n",
        "\n",
        "torch.manual_seed(100)\n",
        "\n",
        "data = TUDataset(root='data/TUDataset/',name='PROTEINS_full')\n",
        "data = data.shuffle()\n",
        "print(len(data))\n",
        "\n",
        "train_data = data[:int(0.75*len(data))]\n",
        "test_data = data[int(0.75*len(data)):]\n",
        "\n",
        "print(len(train_data))\n",
        "print(len(test_data))\n",
        "\n",
        "trainX = DataLoader(train_data, batch_size=20, shuffle=True)\n",
        "testX = DataLoader(train_data, batch_size=20, shuffle=True)\n",
        "\n",
        "print('Total nodes of dataset {}'.format(data.num_features))\n",
        "print('Total labels of dataset {}'.format(data.num_classes))\n",
        "print('Edge indexes of one molecule {}'.format(len(data[1].edge_index)))\n",
        "print('Edge attributes of one molecule {}'.format(data[1].edge_attr))"
      ]
    },
    {
      "attachments": {},
      "cell_type": "markdown",
      "metadata": {},
      "source": [
        "Visualizing molecule"
      ]
    },
    {
      "cell_type": "code",
      "execution_count": null,
      "metadata": {
        "colab": {
          "base_uri": "https://localhost:8080/",
          "height": 264
        },
        "id": "amHnhNHuzQwW",
        "outputId": "1ad6b0ca-3b1d-4df5-c3d1-88ac83414f97"
      },
      "outputs": [],
      "source": [
        "import networkx as nx\n",
        "import matplotlib.pyplot as plt\n",
        "\n",
        "one_mol = data[1]   #getting first molecule\n",
        "edge_list = one_mol.edge_index.t().numpy()\n",
        "\n",
        "plt.figure(1)\n",
        "graph = nx.Graph()\n",
        "for i in range(len(edge_list)):\n",
        "  u = edge_list[i][0]\n",
        "  v = edge_list[i][1]\n",
        "  graph.add_edge(u,v)\n",
        "\n",
        "plt.title('Proteins')\n",
        "nx.draw(graph)\n",
        "plt.savefig('Proteins.png')\n"
      ]
    },
    {
      "attachments": {},
      "cell_type": "markdown",
      "metadata": {},
      "source": [
        "GAT-SAGE"
      ]
    },
    {
      "cell_type": "code",
      "execution_count": null,
      "metadata": {
        "id": "n2Urz8sJzXst"
      },
      "outputs": [],
      "source": [
        "import torch\n",
        "import torch.nn.functional as F\n",
        "from torch.nn import Module,Dropout,Linear\n",
        "from torch_geometric.nn import GCNConv,GATConv,SAGEConv,global_max_pool\n",
        "\n",
        "class GraphSAGE(Module):\n",
        "    def __init__(\n",
        "        self,\n",
        "        n_hidden,\n",
        "        in_features,\n",
        "        out_features,\n",
        "        ):\n",
        "        super(GraphSAGE,self).__init__()\n",
        "        self.n_hidden = n_hidden\n",
        "        self.in_features = in_features\n",
        "        self.out_features = out_features\n",
        "        self.conv1 = SAGEConv(self.in_features,self.n_hidden)\n",
        "        self.conv2 = SAGEConv(self.n_hidden, self.n_hidden)\n",
        "        self.dropout = Dropout(p=0.2)\n",
        "        self.out = Linear(self.n_hidden,self.out_features)\n",
        "\n",
        "    def forward(self,x,edge_index,batch):\n",
        "        x = self.conv1(x,edge_index)\n",
        "        x = self.conv2(x,edge_index)\n",
        "        x = self.dropout(x)\n",
        "        x = x.relu()\n",
        "        x = global_max_pool(x,batch)\n",
        "        x = self.out(x)\n",
        "        return x\n",
        "\n",
        "class GAT(Module):\n",
        "    def __init__(\n",
        "        self,\n",
        "        n_hidden,\n",
        "        in_features,\n",
        "        out_features,\n",
        "        ):\n",
        "        super(GAT,self).__init__()\n",
        "        self.n_hidden = n_hidden\n",
        "        self.in_features = in_features\n",
        "        self.out_features = out_features\n",
        "        self.conv1 = GATConv(self.in_features,self.n_hidden)\n",
        "        self.conv2 = GATConv(self.n_hidden, self.n_hidden)\n",
        "        self.dropout = Dropout(p=0.2)\n",
        "        self.out = Linear(self.n_hidden,self.out_features)\n",
        "\n",
        "    def forward(self,x,edge_index,batch):\n",
        "        x = self.conv1(x,edge_index)\n",
        "        x = self.conv2(x,edge_index)\n",
        "        x = self.dropout(x)\n",
        "        x = x.relu()\n",
        "        x = global_max_pool(x,batch)\n",
        "        x = self.out(x)\n",
        "        return x\n"
      ]
    },
    {
      "cell_type": "code",
      "execution_count": null,
      "metadata": {
        "id": "eub-yXg10Q6E"
      },
      "outputs": [],
      "source": [
        "class GAT_SAGE(Module):\n",
        "  def __init__(\n",
        "        self,\n",
        "        GAT,\n",
        "        SAGE,\n",
        "        ):\n",
        "    super(GAT_SAGE,self).__init__()\n",
        "    self.GAT = GAT\n",
        "    self.SAGE = SAGE\n",
        "    \n",
        "  \n",
        "  def forward(self,x,edge_index,batch):\n",
        "    x1 = self.GAT(x,edge_index,batch)\n",
        "    x2 = self.SAGE(x,edge_index,batch)\n",
        "    x = torch.cat((x1, x2), dim=1)\n",
        "    x = F.softmax(x,dim=1)\n",
        "    return x"
      ]
    },
    {
      "cell_type": "code",
      "execution_count": null,
      "metadata": {
        "id": "EZqJKjSR1uE3"
      },
      "outputs": [],
      "source": [
        "model1 = GraphSAGE(n_hidden=32, in_features=data.num_features,out_features=data.num_classes).to(device)\n",
        "model2 = GAT(n_hidden=32, in_features=data.num_features,out_features=data.num_classes).to(device)\n",
        "model = GAT_SAGE(model2,model1).to(device)"
      ]
    },
    {
      "cell_type": "code",
      "execution_count": null,
      "metadata": {
        "colab": {
          "base_uri": "https://localhost:8080/"
        },
        "id": "vZ2ftHOP4ctS",
        "outputId": "0109c61f-e53d-4ad6-c9f6-709fc42aaa06"
      },
      "outputs": [],
      "source": [
        "print(model)"
      ]
    },
    {
      "attachments": {},
      "cell_type": "markdown",
      "metadata": {},
      "source": [
        "Training GAT-SAGE"
      ]
    },
    {
      "cell_type": "code",
      "execution_count": null,
      "metadata": {
        "colab": {
          "background_save": true,
          "base_uri": "https://localhost:8080/"
        },
        "id": "9YNdyLRS4lVd",
        "outputId": "779f5646-ce6d-4414-b64f-5bdefbde7cf1"
      },
      "outputs": [],
      "source": [
        "#training\n",
        "import time\n",
        "from torch.optim import Adam\n",
        "from torch.nn import CrossEntropyLoss,L1Loss\n",
        "\n",
        "losses = []\n",
        "accuracy = []\n",
        "\n",
        "optimizer = Adam(model.parameters(), lr=0.002)\n",
        "loss_func = CrossEntropyLoss()\n",
        "epochs = 500\n",
        "\n",
        "def train(loader):\n",
        "  for data in loader:\n",
        "    data.to(device)\n",
        "    model.zero_grad()\n",
        "    out = model(data.x, data.edge_index, data.batch)\n",
        "    loss = loss_func(out,data.y) \n",
        "    loss.backward()\n",
        "    optimizer.step()\n",
        "  return loss\n",
        "\n",
        "def test(loader):\n",
        "  model.eval()\n",
        "  correct = 0\n",
        "  for data in loader:\n",
        "    data.to(device)\n",
        "    out = model(data.x, data.edge_index, data.batch)\n",
        "    pred = out.argmax(dim=1)\n",
        "    correct += int((pred == data.y).sum())  \n",
        "  return correct / len(loader.dataset) \n",
        " \n",
        "for epoch in range(0, epochs):\n",
        "    start = time.process_time()\n",
        "    loss = train(trainX)\n",
        "    train_acc = test(trainX)\n",
        "    losses.append(loss)\n",
        "    test_acc = test(testX)\n",
        "    accuracy.append(test_acc)\n",
        "    print(f'Epoch: {epoch:03d}, Train Acc: {train_acc:.4f}, Test Acc: {test_acc:.4f}, Loss: {loss:.4f}, Time: {time.process_time()-start:.4f}')"
      ]
    },
    {
      "attachments": {},
      "cell_type": "markdown",
      "metadata": {},
      "source": [
        "Training statistics"
      ]
    },
    {
      "cell_type": "code",
      "execution_count": null,
      "metadata": {
        "colab": {
          "background_save": true
        },
        "id": "4Jcjs1IEG9n-",
        "outputId": "9d94179f-a486-4aa3-8dbf-f9b130f57da5"
      },
      "outputs": [],
      "source": [
        "import matplotlib.pyplot as plt\n",
        "plt.style.use('ggplot')\n",
        "plt.plot(accuracy)\n",
        "plt.title('GAT-SAGE(Proteins)')\n",
        "plt.xlabel('EPOCHS')\n",
        "plt.ylabel('Accuracy')\n",
        "plt.show()"
      ]
    },
    {
      "attachments": {},
      "cell_type": "markdown",
      "metadata": {},
      "source": [
        "Saving training weights"
      ]
    },
    {
      "cell_type": "code",
      "execution_count": null,
      "metadata": {
        "colab": {
          "background_save": true
        },
        "id": "89fWQmkXFLK3"
      },
      "outputs": [],
      "source": [
        "import numpy as np\n",
        "import torch\n",
        "np.save('GatSAGE-Proteins(accuracy).npy',accuracy)\n",
        "torch.save(model.state_dict(),'GatSAGE-Proteins(weights).pth')\n",
        "torch.save(optimizer.state_dict(),'GatSAGE-Proteins(optimizer).pth')\n"
      ]
    },
    {
      "attachments": {},
      "cell_type": "markdown",
      "metadata": {},
      "source": [
        "Loading weights"
      ]
    },
    {
      "cell_type": "code",
      "execution_count": null,
      "metadata": {
        "colab": {
          "background_save": true
        },
        "id": "PAQuMrc-FiL9",
        "outputId": "4005fda7-0df6-4d42-b166-fb6f60e8a858"
      },
      "outputs": [],
      "source": [
        "#loading weights\n",
        "import torch\n",
        "from torch.optim import Adam\n",
        "optimizer = Adam(model.parameters(), lr=0.002)\n",
        "\n",
        "model.load_state_dict(torch.load('GatSAGE-Proteins(weights).pth'))\n",
        "optimizer.load_state_dict(torch.load('GatSAGE-Proteins(optimizer).pth'))\n",
        "model.eval()"
      ]
    },
    {
      "attachments": {},
      "cell_type": "markdown",
      "metadata": {},
      "source": [
        "Testing GAT-SAGE"
      ]
    },
    {
      "cell_type": "code",
      "execution_count": null,
      "metadata": {
        "colab": {
          "background_save": true
        },
        "id": "dqXaPqM5FqyH",
        "outputId": "417bb5a2-e66d-47a4-ba37-3ee5109fd54f"
      },
      "outputs": [],
      "source": [
        "import torch\n",
        "#testing the weights\n",
        "target = []\n",
        "preds = []\n",
        "\n",
        "import pandas as pd \n",
        "test_batch = next(iter(testX))  #extraxt one batch from dataset\n",
        "target = test_batch.y\n",
        "with torch.no_grad():\n",
        "    test_batch.to(device)\n",
        "    pred = model(test_batch.x, test_batch.edge_index, test_batch.batch)\n",
        "    time_step = time.process_time()-start\n",
        "    preds.append(pred) \n",
        "    df = pd.DataFrame()\n",
        "    df[\"y_actual\"] = test_batch.y.tolist()\n",
        "    df[\"y_predicted\"] = torch.argmax(pred,dim=1).tolist()\n",
        "df"
      ]
    },
    {
      "attachments": {},
      "cell_type": "markdown",
      "metadata": {},
      "source": [
        "Micro F1-score"
      ]
    },
    {
      "cell_type": "code",
      "execution_count": null,
      "metadata": {},
      "outputs": [],
      "source": [
        "#f1 accuracy\n",
        "from torchmetrics.classification import BinaryF1Score\n",
        "test = [torch.max(pred,dim=1) for pred in preds]\n",
        "target = test_batch.y\n",
        "f1 = BinaryF1Score(average='micro').to(device)\n",
        "f1(test[0][0].to(device), target)"
      ]
    },
    {
      "attachments": {},
      "cell_type": "markdown",
      "metadata": {},
      "source": [
        "Confusion Matrix"
      ]
    },
    {
      "cell_type": "code",
      "execution_count": null,
      "metadata": {
        "colab": {
          "background_save": true
        },
        "id": "jFVQl7mfGAEO",
        "outputId": "f8457b0b-f67a-47bd-c861-9538e9d86651"
      },
      "outputs": [],
      "source": [
        "import matplotlib.pyplot as plt\n",
        "import seaborn as sns\n",
        "\n",
        "confusion_matrix = pd.crosstab(df['y_actual'], df['y_predicted'], rownames=['Actual'], colnames=['Predicted'])\n",
        "sns.heatmap(confusion_matrix,annot=True)\n",
        "plt.title('Proteins')\n",
        "plt.savefig('confusion matrix.png')\n",
        "plt.show()"
      ]
    }
  ],
  "metadata": {
    "colab": {
      "provenance": []
    },
    "kernelspec": {
      "display_name": "Python 3",
      "language": "python",
      "name": "python3"
    },
    "language_info": {
      "codemirror_mode": {
        "name": "ipython",
        "version": 3
      },
      "file_extension": ".py",
      "mimetype": "text/x-python",
      "name": "python",
      "nbconvert_exporter": "python",
      "pygments_lexer": "ipython3",
      "version": "3.10.5"
    },
    "vscode": {
      "interpreter": {
        "hash": "ab84889cb095c44b8429d51018245159fbf1c12f737b9c00678ee22457e433a8"
      }
    }
  },
  "nbformat": 4,
  "nbformat_minor": 0
}
